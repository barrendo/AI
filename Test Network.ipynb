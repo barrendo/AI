{
 "cells": [
  {
   "cell_type": "markdown",
   "metadata": {},
   "source": [
    "# import Keras, initialize conv_base"
   ]
  },
  {
   "cell_type": "code",
   "execution_count": 1,
   "metadata": {},
   "outputs": [
    {
     "name": "stderr",
     "output_type": "stream",
     "text": [
      "C:\\Users\\Dennis1\\Anaconda3\\envs\\tensorflow\\lib\\site-packages\\h5py\\__init__.py:36: FutureWarning: Conversion of the second argument of issubdtype from `float` to `np.floating` is deprecated. In future, it will be treated as `np.float64 == np.dtype(float).type`.\n",
      "  from ._conv import register_converters as _register_converters\n",
      "Using TensorFlow backend.\n"
     ]
    }
   ],
   "source": [
    "import keras\n",
    "from keras.applications import VGG16\n",
    "\n",
    "conv_base = VGG16(weights='imagenet',\n",
    "                  include_top=False,\n",
    "                  input_shape=(150, 150, 3))\n",
    "                  "
   ]
  },
  {
   "cell_type": "markdown",
   "metadata": {},
   "source": [
    "# crop Test Picture"
   ]
  },
  {
   "cell_type": "code",
   "execution_count": 6,
   "metadata": {},
   "outputs": [],
   "source": [
    "from PIL import Image\n",
    "from random import randint\n",
    "import glob\n",
    "import random\n",
    "import sys\n",
    "import os, shutil\n",
    "# enter the path to save the tiles------------------------------------------------------------------------------------\n",
    "folder = (\"TEST/Tiles/\")\n",
    "\n",
    "for the_file in os.listdir(folder):\n",
    "    file_path = os.path.join(folder, the_file)\n",
    "    try:\n",
    "        if os.path.isfile(file_path):\n",
    "            os.unlink(file_path)\n",
    "       \n",
    "    except Exception as e:\n",
    "        print(e)\n",
    "\n",
    "\n",
    "numberTiles = 10\n",
    "\n",
    "counter = 1\n",
    "# enter the path of the image--------------------------------------------------------------------------------------------\n",
    "path = \"TEST/BILD.jpg\"\n",
    "\n",
    "    \n",
    "    \n",
    "\n",
    "\n",
    "\n",
    "for NumberTile in range(numberTiles):\n",
    "\n",
    "\n",
    "    img = Image.open(path)\n",
    "    width = img.size[0]\n",
    "    height = img.size[1]\n",
    "\n",
    "\n",
    "    randomSize = (randint(1000, 1600))\n",
    "    randomWidth =(randint(0, width-randomSize))\n",
    "    randomHeight = (randint(0, height-randomSize))\n",
    "\n",
    "\n",
    "\n",
    "\n",
    "    img3 = img.crop(\n",
    "        (\n",
    "        randomWidth ,\n",
    "        randomHeight,\n",
    "        randomWidth+ randomSize,\n",
    "        randomHeight+ randomSize,\n",
    "    )\n",
    "    )\n",
    "    counter = counter + 1\n",
    "    img3.save(folder+str(counter)+\".jpg\")\n",
    "    \n"
   ]
  },
  {
   "cell_type": "markdown",
   "metadata": {},
   "source": [
    "# run Test Picture tiles through conv_base"
   ]
  },
  {
   "cell_type": "code",
   "execution_count": 7,
   "metadata": {},
   "outputs": [
    {
     "name": "stdout",
     "output_type": "stream",
     "text": [
      "Found 10 images belonging to 1 classes.\n"
     ]
    }
   ],
   "source": [
    "import os\n",
    "import numpy as np\n",
    "from keras.preprocessing.image import ImageDataGenerator\n",
    "# enter the path of the directory----------------------------------------------------------------------------------------\n",
    "test_dir = (\"c:/Users/Dennis1/ki/TEST\")\n",
    "datagen = ImageDataGenerator(rescale=1./255)\n",
    "batch_size = 5\n",
    "def extract_features(directory, sample_count):\n",
    "    features = np.zeros(shape=(sample_count, 4, 4, 512))\n",
    "    labels = np.zeros(shape=(sample_count, 3))\n",
    "    generator = datagen.flow_from_directory(\n",
    "        directory,\n",
    "        target_size=(150, 150),\n",
    "        batch_size=batch_size,\n",
    "        class_mode='categorical')\n",
    "    i = 0\n",
    "    for inputs_batch, labels_batch in generator:\n",
    "        features_batch = conv_base.predict(inputs_batch)\n",
    "        features[i * batch_size : (i + 1) * batch_size] = features_batch\n",
    "        labels[i * batch_size : (i + 1) * batch_size] = labels_batch\n",
    "        i += 1\n",
    "        if i * batch_size >= sample_count:\n",
    "        \n",
    "            # Note that since generators yield data indefinitely in a loop,\n",
    "            # we must `break` after every image has been seen once.\n",
    "            break\n",
    "    return features, labels\n",
    "test_features, test_labels = extract_features(test_dir, 10)\n",
    "\n",
    "test_features = np.reshape(test_features, (10, 4 * 4 * 512))"
   ]
  },
  {
   "cell_type": "markdown",
   "metadata": {},
   "source": [
    "# load classifier"
   ]
  },
  {
   "cell_type": "code",
   "execution_count": 8,
   "metadata": {},
   "outputs": [],
   "source": [
    "from keras.models import load_model\n",
    "\n",
    "# Local.h5 File has to be saved in the project folder----------------------------------------------------------------------\n",
    "model = load_model(\"Local.h5\")"
   ]
  },
  {
   "cell_type": "markdown",
   "metadata": {},
   "source": [
    "# run Data thorugh Classifier and get output"
   ]
  },
  {
   "cell_type": "code",
   "execution_count": 9,
   "metadata": {},
   "outputs": [
    {
     "name": "stdout",
     "output_type": "stream",
     "text": [
      "Es handelt sich hier um Raum Other\n"
     ]
    }
   ],
   "source": [
    "testPred =model.predict(test_features)\n",
    "\n",
    "totalACC = [0,0,0]\n",
    "\n",
    "for prime in testPred:\n",
    "    counter = 0\n",
    "    for Acc in prime:\n",
    "        if Acc>0.30:\n",
    "            totalACC[counter]= totalACC[counter]+Acc\n",
    "        counter= counter+1\n",
    "        \n",
    "        \n",
    "        \n",
    "if totalACC[0]>totalACC[1] and totalACC[0]>totalACC[2]:\n",
    "    print(\"Es handelt sich hier um Raum 1\")\n",
    "elif totalACC[1]>totalACC[0] and totalACC[1]>totalACC[2]:\n",
    "    print(\"Es handelt sich hier im Raum 2\")\n",
    "else:\n",
    "    print(\"Es handelt sich hier um Raum Other\")"
   ]
  },
  {
   "cell_type": "code",
   "execution_count": 1,
   "metadata": {},
   "outputs": [],
   "source": [
    "#print(totalACC)\n",
    "#print(model.predict_classes(test_features))"
   ]
  },
  {
   "cell_type": "code",
   "execution_count": null,
   "metadata": {},
   "outputs": [],
   "source": []
  }
 ],
 "metadata": {
  "kernelspec": {
   "display_name": "Python 3",
   "language": "python",
   "name": "python3"
  },
  "language_info": {
   "codemirror_mode": {
    "name": "ipython",
    "version": 3
   },
   "file_extension": ".py",
   "mimetype": "text/x-python",
   "name": "python",
   "nbconvert_exporter": "python",
   "pygments_lexer": "ipython3",
   "version": "3.5.5"
  }
 },
 "nbformat": 4,
 "nbformat_minor": 2
}
