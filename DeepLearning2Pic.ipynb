{
 "cells": [
  {
   "cell_type": "markdown",
   "metadata": {},
   "source": [
    "# Import the most important modules.\n",
    "Blaaa"
   ]
  },
  {
   "cell_type": "code",
   "execution_count": 2,
   "metadata": {},
   "outputs": [
    {
     "name": "stderr",
     "output_type": "stream",
     "text": [
      "C:\\Users\\Dennis1\\Anaconda3\\envs\\tensorflow\\lib\\site-packages\\h5py\\__init__.py:36: FutureWarning: Conversion of the second argument of issubdtype from `float` to `np.floating` is deprecated. In future, it will be treated as `np.float64 == np.dtype(float).type`.\n",
      "  from ._conv import register_converters as _register_converters\n",
      "Using TensorFlow backend.\n"
     ]
    }
   ],
   "source": [
    "import keras\n",
    "from keras.applications import VGG16\n",
    "\n",
    "conv_base = VGG16(weights='imagenet',\n",
    "                  include_top=False,\n",
    "                  )"
   ]
  },
  {
   "cell_type": "code",
   "execution_count": 4,
   "metadata": {},
   "outputs": [
    {
     "name": "stdout",
     "output_type": "stream",
     "text": [
      "Found 1200 images belonging to 2 classes.\n",
      "Found 200 images belonging to 2 classes.\n",
      "Found 200 images belonging to 2 classes.\n"
     ]
    }
   ],
   "source": [
    "\n",
    "import os\n",
    "import numpy as np\n",
    "from keras.preprocessing.image import ImageDataGenerator\n",
    "base_dir = (\"c:/Users/Dennis1/ki/testse\")\n",
    "train_dir = (\"c:/Users/Dennis1/ki/testse/train\")\n",
    "validation_dir = (\"c:/Users/Dennis1/ki/testse/validate\")\n",
    "test_dir = (\"c:/Users/Dennis1/ki/testse/test\")\n",
    "datagen = ImageDataGenerator(rescale=1./255)\n",
    "batch_size = 20\n",
    "def extract_features(directory, sample_count):\n",
    "    features = np.zeros(shape=(sample_count, 4, 4, 512))\n",
    "    labels = np.zeros(shape=(sample_count))\n",
    "    generator = datagen.flow_from_directory(\n",
    "        directory,\n",
    "        target_size=(150, 150),\n",
    "        batch_size=batch_size,\n",
    "        class_mode='binary')\n",
    "    i = 0\n",
    "    for inputs_batch, labels_batch in generator:\n",
    "        features_batch = conv_base.predict(inputs_batch)\n",
    "        features[i * batch_size : (i + 1) * batch_size] = features_batch\n",
    "        labels[i * batch_size : (i + 1) * batch_size] = labels_batch\n",
    "        i += 1\n",
    "        if i * batch_size >= sample_count:\n",
    "        \n",
    "            # Note that since generators yield data indefinitely in a loop,\n",
    "            # we must `break` after every image has been seen once.\n",
    "            break\n",
    "    return features, labels\n",
    "train_features, train_labels = extract_features(train_dir, 200)\n",
    "validation_features, validation_labels = extract_features(validation_dir, 100)\n",
    "test_features, test_labels = extract_features(test_dir, 100)\n",
    "\n"
   ]
  },
  {
   "cell_type": "code",
   "execution_count": 4,
   "metadata": {},
   "outputs": [
    {
     "data": {
      "text/plain": [
       "<keras.preprocessing.image.ImageDataGenerator at 0x1aa2e3e1a20>"
      ]
     },
     "execution_count": 4,
     "metadata": {},
     "output_type": "execute_result"
    }
   ],
   "source": [
    "keras.preprocessing.image.ImageDataGenerator(featurewise_center=False, samplewise_center=False, featurewise_std_normalization=False, samplewise_std_normalization=False, zca_whitening=False, zca_epsilon=1e-06, rotation_range=0.0, width_shift_range=0.0, height_shift_range=0.0, brightness_range=None, shear_range=0.0, zoom_range=0.0, channel_shift_range=0.0, fill_mode='nearest', cval=0.0, horizontal_flip=False, vertical_flip=False, rescale=None, preprocessing_function=None, data_format=None, validation_split=0.0)"
   ]
  },
  {
   "cell_type": "code",
   "execution_count": 5,
   "metadata": {},
   "outputs": [],
   "source": [
    "train_features = np.reshape(train_features, (200, 4 * 4 * 512))\n",
    "validation_features = np.reshape(validation_features, (100, 4 * 4 * 512))\n",
    "test_features = np.reshape(test_features, (100, 4 * 4 * 512))"
   ]
  },
  {
   "cell_type": "markdown",
   "metadata": {},
   "source": [
    "# Creating the network.\n",
    "Bla...\n"
   ]
  },
  {
   "cell_type": "markdown",
   "metadata": {},
   "source": []
  },
  {
   "cell_type": "code",
   "execution_count": 6,
   "metadata": {
    "scrolled": true
   },
   "outputs": [
    {
     "name": "stdout",
     "output_type": "stream",
     "text": [
      "_________________________________________________________________\n",
      "Layer (type)                 Output Shape              Param #   \n",
      "=================================================================\n",
      "dense_1 (Dense)              (None, 64)                524352    \n",
      "_________________________________________________________________\n",
      "dropout_1 (Dropout)          (None, 64)                0         \n",
      "_________________________________________________________________\n",
      "dense_2 (Dense)              (None, 1)                 65        \n",
      "=================================================================\n",
      "Total params: 524,417\n",
      "Trainable params: 524,417\n",
      "Non-trainable params: 0\n",
      "_________________________________________________________________\n",
      "Train on 200 samples, validate on 100 samples\n",
      "Epoch 1/40\n",
      "200/200 [==============================] - 1s 3ms/step - loss: 0.7349 - acc: 0.5200 - val_loss: 0.6338 - val_acc: 0.6000\n",
      "Epoch 2/40\n",
      "200/200 [==============================] - 0s 1ms/step - loss: 0.6296 - acc: 0.6700 - val_loss: 0.5935 - val_acc: 0.7700\n",
      "Epoch 3/40\n",
      "200/200 [==============================] - 0s 1ms/step - loss: 0.5860 - acc: 0.6900 - val_loss: 0.5683 - val_acc: 0.7900\n",
      "Epoch 4/40\n",
      "200/200 [==============================] - 0s 1ms/step - loss: 0.5665 - acc: 0.7500 - val_loss: 0.5480 - val_acc: 0.8000\n",
      "Epoch 5/40\n",
      "200/200 [==============================] - 0s 1ms/step - loss: 0.5633 - acc: 0.7250 - val_loss: 0.5337 - val_acc: 0.7600\n",
      "Epoch 6/40\n",
      "200/200 [==============================] - 0s 1ms/step - loss: 0.5145 - acc: 0.7750 - val_loss: 0.5209 - val_acc: 0.7700\n",
      "Epoch 7/40\n",
      "200/200 [==============================] - 0s 1ms/step - loss: 0.4889 - acc: 0.8000 - val_loss: 0.5040 - val_acc: 0.7600\n",
      "Epoch 8/40\n",
      "200/200 [==============================] - 0s 2ms/step - loss: 0.4802 - acc: 0.7700 - val_loss: 0.4884 - val_acc: 0.7700\n",
      "Epoch 9/40\n",
      "200/200 [==============================] - 0s 2ms/step - loss: 0.4463 - acc: 0.7950 - val_loss: 0.4775 - val_acc: 0.7800\n",
      "Epoch 10/40\n",
      "200/200 [==============================] - 0s 1ms/step - loss: 0.4189 - acc: 0.8250 - val_loss: 0.4703 - val_acc: 0.7900\n",
      "Epoch 11/40\n",
      "200/200 [==============================] - 0s 1ms/step - loss: 0.4175 - acc: 0.8150 - val_loss: 0.4604 - val_acc: 0.7800\n",
      "Epoch 12/40\n",
      "200/200 [==============================] - 0s 1ms/step - loss: 0.3960 - acc: 0.8450 - val_loss: 0.4537 - val_acc: 0.7900\n",
      "Epoch 13/40\n",
      "200/200 [==============================] - 0s 1ms/step - loss: 0.3814 - acc: 0.8700 - val_loss: 0.4437 - val_acc: 0.7900\n",
      "Epoch 14/40\n",
      "200/200 [==============================] - 0s 2ms/step - loss: 0.3710 - acc: 0.8650 - val_loss: 0.4360 - val_acc: 0.8100\n",
      "Epoch 15/40\n",
      "200/200 [==============================] - 0s 1ms/step - loss: 0.3542 - acc: 0.8800 - val_loss: 0.4282 - val_acc: 0.8000\n",
      "Epoch 16/40\n",
      "200/200 [==============================] - 0s 1ms/step - loss: 0.3684 - acc: 0.8650 - val_loss: 0.4234 - val_acc: 0.8100\n",
      "Epoch 17/40\n",
      "200/200 [==============================] - 0s 1ms/step - loss: 0.3292 - acc: 0.8900 - val_loss: 0.4165 - val_acc: 0.8100\n",
      "Epoch 18/40\n",
      "200/200 [==============================] - 0s 1ms/step - loss: 0.3489 - acc: 0.8650 - val_loss: 0.4134 - val_acc: 0.8200\n",
      "Epoch 19/40\n",
      "200/200 [==============================] - 0s 2ms/step - loss: 0.3290 - acc: 0.8850 - val_loss: 0.4082 - val_acc: 0.8200\n",
      "Epoch 20/40\n",
      "200/200 [==============================] - 0s 2ms/step - loss: 0.3087 - acc: 0.9000 - val_loss: 0.4040 - val_acc: 0.8300\n",
      "Epoch 21/40\n",
      "200/200 [==============================] - 0s 1ms/step - loss: 0.2932 - acc: 0.9050 - val_loss: 0.3999 - val_acc: 0.8300\n",
      "Epoch 22/40\n",
      "200/200 [==============================] - 0s 2ms/step - loss: 0.2957 - acc: 0.8750 - val_loss: 0.3940 - val_acc: 0.8200\n",
      "Epoch 23/40\n",
      "200/200 [==============================] - 0s 1ms/step - loss: 0.3076 - acc: 0.9100 - val_loss: 0.3914 - val_acc: 0.8300\n",
      "Epoch 24/40\n",
      "200/200 [==============================] - 0s 1ms/step - loss: 0.2584 - acc: 0.9450 - val_loss: 0.3889 - val_acc: 0.8200\n",
      "Epoch 25/40\n",
      "200/200 [==============================] - 0s 1ms/step - loss: 0.2698 - acc: 0.9100 - val_loss: 0.3867 - val_acc: 0.8400\n",
      "Epoch 26/40\n",
      "200/200 [==============================] - 0s 1ms/step - loss: 0.2938 - acc: 0.9050 - val_loss: 0.3825 - val_acc: 0.8300\n",
      "Epoch 27/40\n",
      "200/200 [==============================] - 0s 1ms/step - loss: 0.2680 - acc: 0.9200 - val_loss: 0.3798 - val_acc: 0.8400\n",
      "Epoch 28/40\n",
      "200/200 [==============================] - 0s 1ms/step - loss: 0.2515 - acc: 0.9450 - val_loss: 0.3784 - val_acc: 0.8200\n",
      "Epoch 29/40\n",
      "200/200 [==============================] - 0s 1ms/step - loss: 0.2526 - acc: 0.9200 - val_loss: 0.3735 - val_acc: 0.8400\n",
      "Epoch 30/40\n",
      "200/200 [==============================] - 0s 1ms/step - loss: 0.2673 - acc: 0.9150 - val_loss: 0.3726 - val_acc: 0.8400\n",
      "Epoch 31/40\n",
      "200/200 [==============================] - 0s 1ms/step - loss: 0.2394 - acc: 0.9350 - val_loss: 0.3691 - val_acc: 0.8400\n",
      "Epoch 32/40\n",
      "200/200 [==============================] - 0s 1ms/step - loss: 0.2106 - acc: 0.9450 - val_loss: 0.3651 - val_acc: 0.8400\n",
      "Epoch 33/40\n",
      "200/200 [==============================] - 0s 1ms/step - loss: 0.2252 - acc: 0.9200 - val_loss: 0.3622 - val_acc: 0.8400\n",
      "Epoch 34/40\n",
      "200/200 [==============================] - 0s 1ms/step - loss: 0.2456 - acc: 0.9250 - val_loss: 0.3654 - val_acc: 0.8300\n",
      "Epoch 35/40\n",
      "200/200 [==============================] - 0s 1ms/step - loss: 0.2112 - acc: 0.9450 - val_loss: 0.3590 - val_acc: 0.8400\n",
      "Epoch 36/40\n",
      "200/200 [==============================] - 0s 1ms/step - loss: 0.2113 - acc: 0.9500 - val_loss: 0.3560 - val_acc: 0.8400\n",
      "Epoch 37/40\n",
      "200/200 [==============================] - 0s 1ms/step - loss: 0.2167 - acc: 0.9450 - val_loss: 0.3555 - val_acc: 0.8400\n",
      "Epoch 38/40\n",
      "200/200 [==============================] - 0s 1ms/step - loss: 0.1894 - acc: 0.9550 - val_loss: 0.3536 - val_acc: 0.8400\n",
      "Epoch 39/40\n",
      "200/200 [==============================] - 0s 1ms/step - loss: 0.1849 - acc: 0.9650 - val_loss: 0.3530 - val_acc: 0.8500\n",
      "Epoch 40/40\n",
      "200/200 [==============================] - 0s 1ms/step - loss: 0.1930 - acc: 0.9550 - val_loss: 0.3536 - val_acc: 0.8500\n"
     ]
    }
   ],
   "source": [
    "from keras import models\n",
    "from keras import layers\n",
    "from keras import optimizers\n",
    "\n",
    "model = models.Sequential()\n",
    "model.add(layers.Dense(64, activation='relu', input_dim=4 * 4 * 512))\n",
    "model.add(layers.Dropout(0.5))\n",
    "model.add(layers.Dense(1, activation='sigmoid'))\n",
    "\n",
    "model.compile(optimizer=optimizers.RMSprop(lr=2e-5),\n",
    "              loss='binary_crossentropy',\n",
    "              metrics=['acc'])\n",
    "model.summary()\n",
    "#visuelL\n",
    "history = model.fit(train_features, train_labels,\n",
    "                    epochs=40,\n",
    "                    batch_size=10,\n",
    "                    validation_data=(validation_features, validation_labels))"
   ]
  },
  {
   "cell_type": "code",
   "execution_count": 7,
   "metadata": {
    "scrolled": true
   },
   "outputs": [
    {
     "data": {
      "image/png": "[encoded data removed]",
      "text/plain": [
       "<Figure size 432x288 with 1 Axes>"
      ]
     },
     "metadata": {},
     "output_type": "display_data"
    },
    {
     "data": {
      "image/png": "[encoded data removed]",
      "text/plain": [
       "<Figure size 432x288 with 1 Axes>"
      ]
     },
     "metadata": {},
     "output_type": "display_data"
    }
   ],
   "source": [
    "%matplotlib inline\n",
    "import matplotlib.pyplot as plt\n",
    "import time\n",
    "\n",
    "acc = history.history['acc']\n",
    "val_acc = history.history['val_acc']\n",
    "loss = history.history['loss']\n",
    "val_loss = history.history['val_loss']\n",
    "\n",
    "epochs = range(len(acc))\n",
    "\n",
    "plt.plot(epochs, acc,  label='Training acc')\n",
    "plt.plot(epochs, val_acc, label='Validation acc')\n",
    "plt.title('Training and validation accuracy')\n",
    "plt.legend()\n",
    "plt.savefig(\"Training Acc-\"+str((int(time.time())))+\".png\", dpi=300, bbox_inches='tight')\n",
    "plt.figure()\n",
    "\n",
    "plt.plot(epochs, loss,  label='Training loss')\n",
    "plt.plot(epochs, val_loss,  label='Validation loss')\n",
    "plt.title('Training and validation loss')\n",
    "plt.legend()\n",
    "plt.savefig(\"Training Loss-\"+str((int(time.time())))+\".png\", dpi=300, bbox_inches='tight')\n",
    "plt.show()\n"
   ]
  },
  {
   "cell_type": "code",
   "execution_count": 54,
   "metadata": {},
   "outputs": [
    {
     "name": "stdout",
     "output_type": "stream",
     "text": [
      "_________________________________________________________________\n",
      "Layer (type)                 Output Shape              Param #   \n",
      "=================================================================\n",
      "input_5 (InputLayer)         (None, None, None, 3)     0         \n",
      "_________________________________________________________________\n",
      "block1_conv1 (Conv2D)        (None, None, None, 64)    1792      \n",
      "_________________________________________________________________\n",
      "block1_conv2 (Conv2D)        (None, None, None, 64)    36928     \n",
      "_________________________________________________________________\n",
      "block1_pool (MaxPooling2D)   (None, None, None, 64)    0         \n",
      "_________________________________________________________________\n",
      "block2_conv1 (Conv2D)        (None, None, None, 128)   73856     \n",
      "_________________________________________________________________\n",
      "block2_conv2 (Conv2D)        (None, None, None, 128)   147584    \n",
      "_________________________________________________________________\n",
      "block2_pool (MaxPooling2D)   (None, None, None, 128)   0         \n",
      "_________________________________________________________________\n",
      "block3_conv1 (Conv2D)        (None, None, None, 256)   295168    \n",
      "_________________________________________________________________\n",
      "block3_conv2 (Conv2D)        (None, None, None, 256)   590080    \n",
      "_________________________________________________________________\n",
      "block3_conv3 (Conv2D)        (None, None, None, 256)   590080    \n",
      "_________________________________________________________________\n",
      "block3_pool (MaxPooling2D)   (None, None, None, 256)   0         \n",
      "_________________________________________________________________\n",
      "block4_conv1 (Conv2D)        (None, None, None, 512)   1180160   \n",
      "_________________________________________________________________\n",
      "block4_conv2 (Conv2D)        (None, None, None, 512)   2359808   \n",
      "_________________________________________________________________\n",
      "block4_conv3 (Conv2D)        (None, None, None, 512)   2359808   \n",
      "_________________________________________________________________\n",
      "block4_pool (MaxPooling2D)   (None, None, None, 512)   0         \n",
      "_________________________________________________________________\n",
      "block5_conv1 (Conv2D)        (None, None, None, 512)   2359808   \n",
      "_________________________________________________________________\n",
      "block5_conv2 (Conv2D)        (None, None, None, 512)   2359808   \n",
      "_________________________________________________________________\n",
      "block5_conv3 (Conv2D)        (None, None, None, 512)   2359808   \n",
      "_________________________________________________________________\n",
      "block5_pool (MaxPooling2D)   (None, None, None, 512)   0         \n",
      "=================================================================\n",
      "Total params: 14,714,688\n",
      "Trainable params: 14,714,688\n",
      "Non-trainable params: 0\n",
      "_________________________________________________________________\n"
     ]
    }
   ],
   "source": [
    "conv_base.summary()"
   ]
  },
  {
   "cell_type": "code",
   "execution_count": 1,
   "metadata": {},
   "outputs": [
    {
     "name": "stdout",
     "output_type": "stream",
     "text": [
      "0\n",
      "Original Dataset/Raum1\\10.jpg\n",
      "1\n",
      "Original Dataset/Raum1\\4.jpg\n",
      "2\n",
      "Original Dataset/Raum1\\3.jpg\n",
      "3\n",
      "Original Dataset/Raum1\\5.jpg\n",
      "4\n",
      "Original Dataset/Raum1\\12.jpg\n",
      "5\n",
      "Original Dataset/Raum1\\6.jpg\n",
      "6\n",
      "Original Dataset/Raum1\\1.jpg\n",
      "7\n",
      "Original Dataset/Raum1\\8.jpg\n",
      "0\n",
      "Original Dataset/Raum1\\10.jpg\n",
      "1\n",
      "Original Dataset/Raum1\\4.jpg\n",
      "2\n",
      "Original Dataset/Raum1\\3.jpg\n",
      "3\n",
      "Original Dataset/Raum1\\5.jpg\n",
      "4\n",
      "Original Dataset/Raum1\\12.jpg\n",
      "5\n",
      "Original Dataset/Raum1\\6.jpg\n",
      "6\n",
      "Original Dataset/Raum1\\1.jpg\n",
      "7\n",
      "Original Dataset/Raum1\\8.jpg\n",
      "0\n",
      "Original Dataset/Raum1\\10.jpg\n",
      "1\n",
      "Original Dataset/Raum1\\4.jpg\n",
      "2\n",
      "Original Dataset/Raum1\\3.jpg\n",
      "3\n",
      "Original Dataset/Raum1\\5.jpg\n",
      "4\n",
      "Original Dataset/Raum1\\12.jpg\n",
      "5\n",
      "Original Dataset/Raum1\\6.jpg\n",
      "6\n",
      "Original Dataset/Raum1\\1.jpg\n",
      "7\n",
      "Original Dataset/Raum1\\8.jpg\n",
      "0\n",
      "Original Dataset/Raum2\\9.jpg\n",
      "1\n",
      "Original Dataset/Raum2\\2.jpg\n",
      "2\n",
      "Original Dataset/Raum2\\6.jpg\n",
      "3\n",
      "Original Dataset/Raum2\\3.jpg\n",
      "4\n",
      "Original Dataset/Raum2\\4.jpg\n",
      "5\n",
      "Original Dataset/Raum2\\1.jpg\n",
      "6\n",
      "Original Dataset/Raum2\\7.jpg\n",
      "7\n",
      "Original Dataset/Raum2\\8.jpg\n",
      "0\n",
      "Original Dataset/Raum2\\9.jpg\n",
      "1\n",
      "Original Dataset/Raum2\\2.jpg\n",
      "2\n",
      "Original Dataset/Raum2\\6.jpg\n",
      "3\n",
      "Original Dataset/Raum2\\3.jpg\n",
      "4\n",
      "Original Dataset/Raum2\\4.jpg\n",
      "5\n",
      "Original Dataset/Raum2\\1.jpg\n",
      "6\n",
      "Original Dataset/Raum2\\7.jpg\n",
      "7\n",
      "Original Dataset/Raum2\\8.jpg\n",
      "0\n",
      "Original Dataset/Raum2\\9.jpg\n",
      "1\n",
      "Original Dataset/Raum2\\2.jpg\n",
      "2\n",
      "Original Dataset/Raum2\\6.jpg\n",
      "3\n",
      "Original Dataset/Raum2\\3.jpg\n",
      "4\n",
      "Original Dataset/Raum2\\4.jpg\n",
      "5\n",
      "Original Dataset/Raum2\\1.jpg\n",
      "6\n",
      "Original Dataset/Raum2\\7.jpg\n",
      "7\n",
      "Original Dataset/Raum2\\8.jpg\n",
      "0\n",
      "Original Dataset/other\\IMG_20180522_130126.jpg\n",
      "1\n",
      "Original Dataset/other\\1.jpg\n",
      "2\n",
      "Original Dataset/other\\IMG_20180522_193445.jpg\n",
      "3\n",
      "Original Dataset/other\\IMG_20180522_124157.jpg\n",
      "4\n",
      "Original Dataset/other\\IMG_20180528_115805.jpg\n",
      "5\n",
      "Original Dataset/other\\3.jpg\n",
      "6\n",
      "Original Dataset/other\\2.jpg\n",
      "7\n",
      "Original Dataset/other\\IMG_20180528_115714.jpg\n",
      "0\n",
      "Original Dataset/other\\IMG_20180522_130126.jpg\n",
      "1\n",
      "Original Dataset/other\\1.jpg\n",
      "2\n",
      "Original Dataset/other\\IMG_20180522_193445.jpg\n",
      "3\n",
      "Original Dataset/other\\IMG_20180522_124157.jpg\n",
      "4\n",
      "Original Dataset/other\\IMG_20180528_115805.jpg\n",
      "5\n",
      "Original Dataset/other\\3.jpg\n",
      "6\n",
      "Original Dataset/other\\2.jpg\n"
     ]
    },
    {
     "ename": "FileNotFoundError",
     "evalue": "[Errno 2] No such file or directory: 'testse/validate/other/607.jpg'",
     "output_type": "error",
     "traceback": [
      "\u001b[1;31m---------------------------------------------------------------------------\u001b[0m",
      "\u001b[1;31mFileNotFoundError\u001b[0m                         Traceback (most recent call last)",
      "\u001b[1;32m<ipython-input-1-0be2ae25c419>\u001b[0m in \u001b[0;36m<module>\u001b[1;34m()\u001b[0m\n\u001b[0;32m     65\u001b[0m                     )\n\u001b[0;32m     66\u001b[0m                     )\n\u001b[1;32m---> 67\u001b[1;33m                     \u001b[0mimg3\u001b[0m\u001b[1;33m.\u001b[0m\u001b[0msave\u001b[0m\u001b[1;33m(\u001b[0m\u001b[1;34m\"testse/\"\u001b[0m\u001b[1;33m+\u001b[0m\u001b[0mprime\u001b[0m\u001b[1;33m+\u001b[0m\u001b[1;34m\"/\"\u001b[0m\u001b[1;33m+\u001b[0m\u001b[0mroom\u001b[0m\u001b[1;33m+\u001b[0m\u001b[1;34m\"/\"\u001b[0m\u001b[1;33m+\u001b[0m\u001b[0mstr\u001b[0m\u001b[1;33m(\u001b[0m\u001b[0mNumberTile\u001b[0m\u001b[1;33m+\u001b[0m\u001b[1;36m1\u001b[0m\u001b[1;33m+\u001b[0m\u001b[1;33m(\u001b[0m\u001b[0mNumberPictures\u001b[0m\u001b[1;33m*\u001b[0m\u001b[1;33m(\u001b[0m\u001b[0mnumberTiles\u001b[0m\u001b[1;33m+\u001b[0m\u001b[1;36m1\u001b[0m\u001b[1;33m)\u001b[0m\u001b[1;33m)\u001b[0m\u001b[1;33m)\u001b[0m\u001b[1;33m+\u001b[0m\u001b[1;34m\".jpg\"\u001b[0m\u001b[1;33m)\u001b[0m\u001b[1;33m\u001b[0m\u001b[0m\n\u001b[0m\u001b[0;32m     68\u001b[0m \u001b[1;33m\u001b[0m\u001b[0m\n",
      "\u001b[1;32m~\\Anaconda3\\envs\\tensorflow\\lib\\site-packages\\PIL\\Image.py\u001b[0m in \u001b[0;36msave\u001b[1;34m(self, fp, format, **params)\u001b[0m\n\u001b[0;32m   1930\u001b[0m                 \u001b[1;31m# Open also for reading (\"+\"), because TIFF save_all\u001b[0m\u001b[1;33m\u001b[0m\u001b[1;33m\u001b[0m\u001b[0m\n\u001b[0;32m   1931\u001b[0m                 \u001b[1;31m# writer needs to go back and edit the written data.\u001b[0m\u001b[1;33m\u001b[0m\u001b[1;33m\u001b[0m\u001b[0m\n\u001b[1;32m-> 1932\u001b[1;33m                 \u001b[0mfp\u001b[0m \u001b[1;33m=\u001b[0m \u001b[0mbuiltins\u001b[0m\u001b[1;33m.\u001b[0m\u001b[0mopen\u001b[0m\u001b[1;33m(\u001b[0m\u001b[0mfilename\u001b[0m\u001b[1;33m,\u001b[0m \u001b[1;34m\"w+b\"\u001b[0m\u001b[1;33m)\u001b[0m\u001b[1;33m\u001b[0m\u001b[0m\n\u001b[0m\u001b[0;32m   1933\u001b[0m \u001b[1;33m\u001b[0m\u001b[0m\n\u001b[0;32m   1934\u001b[0m         \u001b[1;32mtry\u001b[0m\u001b[1;33m:\u001b[0m\u001b[1;33m\u001b[0m\u001b[0m\n",
      "\u001b[1;31mFileNotFoundError\u001b[0m: [Errno 2] No such file or directory: 'testse/validate/other/607.jpg'"
     ]
    }
   ],
   "source": [
    "from PIL import Image\n",
    "from random import randint\n",
    "import glob\n",
    "import random\n",
    "import sys\n",
    "\n",
    "numberTrain = 6\n",
    "numberValidate = 1\n",
    "numberTest = 1\n",
    "\n",
    "numberTiles = 100\n",
    "\n",
    "picSum = numberTrain + numberValidate + numberTest\n",
    "\n",
    "rooms = [\"Raum1\", \"Raum2\", \"other\"]\n",
    "primes = [\"train\", \"validate\", \"test\"]\n",
    "\n",
    "for room in rooms:\n",
    "    \n",
    "    path= (\"Original Dataset/\"+ room)\n",
    "    picPaths = glob.glob(path+\"/*\")\n",
    "    random.shuffle(picPaths)\n",
    "    \n",
    "    for prime in primes:\n",
    "    \n",
    "        \n",
    "        for NumberPictures in range(picSum):\n",
    "            print(str(NumberPictures))\n",
    "            print(picPaths[NumberPictures])\n",
    "            if NumberPictures<numberTrain and prime == \"train\" or NumberPictures>=numberTrain and NumberPictures<(numberTrain+numberValidate) and prime== \"validate\" or NumberPictures>=numberTrain+numberValidate and NumberPictures< picSum and prime ==\"test\":\n",
    "    \n",
    "               \n",
    "            \n",
    "                \n",
    "                \n",
    "                \n",
    "                \n",
    "\n",
    "\n",
    "                if len(picPaths) < picSum:\n",
    "                   sys.exit(\"Not Enough Pictures!\")\n",
    "\n",
    "\n",
    "                for NumberTile in range(numberTiles):\n",
    "\n",
    "\n",
    "                    img = Image.open(picPaths[NumberPictures])\n",
    "                    width = img.size[0]\n",
    "                    height = img.size[1]\n",
    "\n",
    "\n",
    "                    randomSize = (randint(1000, 1600))\n",
    "                    randomWidth =(randint(0, width-randomSize))\n",
    "                    randomHeight = (randint(0, height-randomSize))\n",
    "\n",
    "\n",
    "\n",
    "\n",
    "                    img3 = img.crop(\n",
    "                        (\n",
    "                        randomWidth ,\n",
    "                        randomHeight,\n",
    "                        randomWidth+ randomSize,\n",
    "                        randomHeight+ randomSize,\n",
    "                    )\n",
    "                    )\n",
    "                    img3.save(\"testse/\"+prime+\"/\"+room+\"/\"+str(NumberTile+1+(NumberPictures*(numberTiles+1)))+\".jpg\")\n",
    "                    \n"
   ]
  },
  {
   "cell_type": "code",
   "execution_count": null,
   "metadata": {},
   "outputs": [],
   "source": [
    "import glob"
   ]
  },
  {
   "cell_type": "code",
   "execution_count": 22,
   "metadata": {},
   "outputs": [],
   "source": [
    "import random"
   ]
  },
  {
   "cell_type": "code",
   "execution_count": 31,
   "metadata": {},
   "outputs": [],
   "source": [
    " paths = glob.glob(\"testse/train/Raum1/*\")"
   ]
  },
  {
   "cell_type": "code",
   "execution_count": 32,
   "metadata": {},
   "outputs": [
    {
     "name": "stdout",
     "output_type": "stream",
     "text": [
      "['testse/train/Raum1\\\\0.jpg', 'testse/train/Raum1\\\\1.jpg', 'testse/train/Raum1\\\\2.jpg', 'testse/train/Raum1\\\\3.jpg', 'testse/train/Raum1\\\\4.jpg']\n"
     ]
    }
   ],
   "source": [
    "print(paths)"
   ]
  },
  {
   "cell_type": "code",
   "execution_count": 23,
   "metadata": {},
   "outputs": [],
   "source": [
    "random.shuffle(paths) "
   ]
  },
  {
   "cell_type": "code",
   "execution_count": 24,
   "metadata": {},
   "outputs": [
    {
     "name": "stdout",
     "output_type": "stream",
     "text": [
      "['testse/train\\\\other', 'testse/train\\\\Raum2', 'testse/train\\\\Raum1']\n"
     ]
    }
   ],
   "source": [
    "print(paths)"
   ]
  },
  {
   "cell_type": "code",
   "execution_count": 30,
   "metadata": {},
   "outputs": [
    {
     "name": "stdout",
     "output_type": "stream",
     "text": [
      "testse/train\\other\n"
     ]
    }
   ],
   "source": [
    "print(paths[0])"
   ]
  },
  {
   "cell_type": "code",
   "execution_count": 35,
   "metadata": {},
   "outputs": [],
   "source": [
    "img.close();"
   ]
  },
  {
   "cell_type": "code",
   "execution_count": null,
   "metadata": {},
   "outputs": [],
   "source": []
  }
 ],
 "metadata": {
  "kernelspec": {
   "display_name": "Python 3",
   "language": "python",
   "name": "python3"
  },
  "language_info": {
   "codemirror_mode": {
    "name": "ipython",
    "version": 3
   },
   "file_extension": ".py",
   "mimetype": "text/x-python",
   "name": "python",
   "nbconvert_exporter": "python",
   "pygments_lexer": "ipython3",
   "version": "3.5.5"
  }
 },
 "nbformat": 4,
 "nbformat_minor": 2
}
